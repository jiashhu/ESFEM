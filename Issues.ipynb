{
 "cells": [
  {
   "cell_type": "markdown",
   "id": "05b6afb5-4e7a-4873-9b6b-18d3c941bf32",
   "metadata": {},
   "source": [
    "### Paraview中可视化曲边单元\n",
    "\n",
    "* VTKOutput的时候选择subdivision"
   ]
  },
  {
   "cell_type": "code",
   "execution_count": 40,
   "id": "aeabd396-6cae-4eb9-ac19-864feb473a64",
   "metadata": {},
   "outputs": [
    {
     "name": "stdout",
     "output_type": "stream",
     "text": [
      " Generate Mesh from spline geometry\n"
     ]
    },
    {
     "data": {
      "text/plain": [
       "'test3'"
      ]
     },
     "execution_count": 40,
     "metadata": {},
     "output_type": "execute_result"
    }
   ],
   "source": [
    "from ngsolve import *\n",
    "\n",
    "from netgen.geom2d import SplineGeometry\n",
    "\n",
    "maxh = 0.3\n",
    "order = 4\n",
    "x0,y0,r0 = 1/4,1/4,1/2\n",
    "\n",
    "## Generate mesh, working fem spaces\n",
    "geo = SplineGeometry()\n",
    "geo.AddCircle((x0,y0),r0,bc=\"circle\")\n",
    "mymesh = Mesh(geo.GenerateMesh(maxh=maxh))\n",
    "mymesh.Curve(order)\n",
    "\n",
    "## Set a simple but high order deformation\n",
    "fesV = VectorH1(mymesh,order=order)\n",
    "VExtend = GridFunction(fesV)\n",
    "VExtend.Set(CF((x**2,y**2)))\n",
    "Disp = GridFunction(fesV)\n",
    "Disp.vec.data += BaseVector(0.1*VExtend.vec.FV().NumPy())\n",
    "mymesh.SetDeformation(Disp)\n",
    "        \n",
    "vtk = VTKOutput(ma=mymesh,coefs=[],\\\n",
    "            filename='test', subdivision=4,legacy=False)\n",
    "vtk.Do()"
   ]
  }
 ],
 "metadata": {
  "kernelspec": {
   "display_name": "Python 3 (ipykernel)",
   "language": "python",
   "name": "python3"
  },
  "language_info": {
   "codemirror_mode": {
    "name": "ipython",
    "version": 3
   },
   "file_extension": ".py",
   "mimetype": "text/x-python",
   "name": "python",
   "nbconvert_exporter": "python",
   "pygments_lexer": "ipython3",
   "version": "3.8.10"
  }
 },
 "nbformat": 4,
 "nbformat_minor": 5
}
