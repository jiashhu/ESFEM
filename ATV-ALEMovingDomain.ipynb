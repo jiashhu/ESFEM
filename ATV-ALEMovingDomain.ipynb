{
 "cells": [
  {
   "cell_type": "code",
   "execution_count": 1,
   "id": "ccd73c7f-5088-4b4a-a97c-60a407d1fb39",
   "metadata": {},
   "outputs": [],
   "source": [
    "from ngsolve import *\n",
    "import numpy as np"
   ]
  },
  {
   "cell_type": "code",
   "execution_count": 2,
   "id": "cd557d4c-30da-4ece-ad0c-25cd310ea1a3",
   "metadata": {},
   "outputs": [],
   "source": [
    "import time"
   ]
  },
  {
   "cell_type": "code",
   "execution_count": 3,
   "id": "42b20fbd-80ff-43fb-9f81-8e9555059f51",
   "metadata": {},
   "outputs": [],
   "source": [
    "from netgen.geom2d import SplineGeometry"
   ]
  },
  {
   "cell_type": "code",
   "execution_count": 4,
   "id": "e33aec82-5e71-4b3b-aaa6-b91109c29fb0",
   "metadata": {},
   "outputs": [],
   "source": [
    "from scipy.sparse import *\n",
    "import numpy as np\n",
    "\n",
    "def MyInv(Amat, Vec, FreeDofs:np.ndarray=None):\n",
    "    '''\n",
    "        # A is a ngsolve matrix，例如可以如下生成\n",
    "        A = la.SparseMatrixd.CreateFromCOO([0,1,2], [0,1,2], [1,2,3], 3, 3)\n",
    "        MyInv(A,BaseVector(np.array([1,2,3])),np.array([1,1,0],dtype=bool))\n",
    "        gfu.vec.data += BaseVector(MyInv(a.mat,res:BaseVector,np.array(X.FreeDofs())))\n",
    "        其中FreeDofs的dtype需要时bool才可以\n",
    "    '''\n",
    "    if FreeDofs is None:\n",
    "        FreeDofs = np.array(np.ones(Vec.FV().NumPy().shape),dtype=bool)\n",
    "    numFree = np.sum(FreeDofs)\n",
    "    A_data = list(Amat.COO())\n",
    "    \n",
    "    A_coo = coo_matrix((A_data[2].NumPy(),(np.array(A_data[0]),np.array(A_data[1]))),Amat.shape)\n",
    "    A_csr = A_coo.tocsr()\n",
    "    A_new_csr = A_csr[FreeDofs][:, FreeDofs]\n",
    "    b = Vec.FV().NumPy()[FreeDofs]\n",
    "    \n",
    "    # 使用spsolve求解Ax = b\n",
    "    x = linalg.spsolve(A_new_csr, b)\n",
    "    res = np.zeros(FreeDofs.shape)\n",
    "    res[FreeDofs] = x\n",
    "    return res"
   ]
  },
  {
   "cell_type": "code",
   "execution_count": 5,
   "id": "5a0b42a5-e14f-4925-a27f-d78d25d05eac",
   "metadata": {},
   "outputs": [],
   "source": [
    "def Pos_Transformer(Pos_GF,dim=None):\n",
    "    if dim is None:\n",
    "        dim = Pos_GF.dim\n",
    "    else:\n",
    "        assert(Pos_GF.dim == dim)\n",
    "    N = int(len(Pos_GF.vec)/dim)\n",
    "    coords = Pos_GF.vec.Reshape(N).NumPy().copy()\n",
    "    return coords.T"
   ]
  },
  {
   "cell_type": "markdown",
   "id": "3cbbd852-78d3-43e6-975b-387fd49f51a2",
   "metadata": {},
   "source": [
    "### Setting of Velocity field\n",
    "* Expression of u; Hessian D2u and Gradient Du"
   ]
  },
  {
   "cell_type": "code",
   "execution_count": 6,
   "id": "3e6d82c7-96b0-4fc0-ab51-110956fe7286",
   "metadata": {},
   "outputs": [],
   "source": [
    "class TwoTimeVF():\n",
    "    '''\n",
    "        autonomous velocity field: parameter mu\n",
    "\n",
    "        containing: \n",
    "        velocity field: u, dim = 2\n",
    "        Cartesian Hessian of each component: mat_D2u, list of matrix of dim 2\n",
    "        Cartesian Gradient of u: mat_Du, matrix 2x2\n",
    "    '''\n",
    "    def __init__(self,mu,coef) -> None:\n",
    "        r = sqrt(x**2+y**2)\n",
    "        self.v_r = r*(1-r**2)\n",
    "        self.v_t = mu - coef*y/r\n",
    "        self.mu = mu\n",
    "        self.coef = coef\n",
    "        self.u = CF((self.v_r * x/r - y * self.v_t,\n",
    "                    self.v_r * y/r + x * self.v_t))\n",
    "\n",
    "        # derived Plane Hessian for each component of velocity\n",
    "        self.mat_D2u = [\n",
    "            CF((self.u[0].Diff(x).Diff(x).Compile(), self.u[0].Diff(x).Diff(y).Compile(),\n",
    "                self.u[0].Diff(x).Diff(y).Compile(), self.u[0].Diff(y).Diff(y).Compile()), \n",
    "                dims=(2,2)),\n",
    "            CF((self.u[1].Diff(x).Diff(x).Compile(), self.u[1].Diff(x).Diff(y).Compile(),\n",
    "                self.u[1].Diff(x).Diff(y).Compile(), self.u[1].Diff(y).Diff(y).Compile()), \n",
    "                dims=(2,2))\n",
    "        ]\n",
    "        # Plane Gradient -- Du: first row: D u_0, second row D u_1\n",
    "        self.mat_Du = [\n",
    "            [self.u[0].Diff(x).Compile(), self.u[0].Diff(y).Compile()],\n",
    "            [self.u[1].Diff(x).Compile(), self.u[1].Diff(y).Compile()]\n",
    "        ]\n",
    "        self.mat_Du_CF = CF(\n",
    "            tuple(self.mat_Du[0]+self.mat_Du[1]), dims=(2,2)\n",
    "        )"
   ]
  },
  {
   "cell_type": "markdown",
   "id": "4ccad9d2-30b8-4884-af1b-99095a308bf0",
   "metadata": {},
   "source": [
    "### 几何以及速度场的解析表达式\n",
    "* 中心在 $x_0,y_0$，半径为 $r_0$\n",
    "* 初始曲面的法向量场的表达式、梯度法向量场的lift以及投影算子\n",
    "* nCF是精确的法向量，只是为了插值得到后面的初始时刻的法向量，可以近似由曲面的几何法向量 specialcf.normal 来替代\n",
    "* DnCF是Weingarten矩阵的表达式，只是为了插值后文初始时刻Weingarten矩阵的初值sgnCF。可以用高阶曲面近似的Weingarten矩阵来替代"
   ]
  },
  {
   "cell_type": "code",
   "execution_count": 7,
   "id": "0f703b40-af44-4144-b611-5540edacd288",
   "metadata": {},
   "outputs": [],
   "source": [
    "class MoveCircleGeo():\n",
    "    def __init__(self,x0,y0,r0) -> None:\n",
    "        self.x0 = x0\n",
    "        self.y0 = y0\n",
    "        self.r = r0\n",
    "        rCF = sqrt((x-self.x0)**2+(y-self.y0)**2)\n",
    "        self.nCF_lift = CF(((x-self.x0)/rCF,(y-self.y0)/rCF))\n",
    "        # nabla ^2 d, weingarten mapping on parallel surfaces\n",
    "        self.DnCF_lift = CF(((y-self.y0)**2/rCF**3, -(x-self.x0)*(y-self.y0)/rCF**3,\n",
    "                             -(x-self.x0)*(y-self.y0)/rCF**3, (x-self.x0)**2/rCF**3),dims=(2,2))\n",
    "        self.PCF = CF((1-((x-self.x0)/rCF)**2, -(x-self.x0)*(y-self.y0)/rCF**2, \n",
    "                    -(x-self.x0)*(y-self.y0)/rCF**2, 1-((y-self.y0)/rCF)**2),dims = (2,2))\n"
   ]
  },
  {
   "cell_type": "code",
   "execution_count": 8,
   "id": "cf0a1445-632d-4f78-aab6-fcf1ac93014e",
   "metadata": {},
   "outputs": [],
   "source": [
    "def TensorProduct(u,v):\n",
    "    assert(type(u)==list)\n",
    "    assert(type(v)==list)\n",
    "    return CF((u[0]*v[0],u[0]*v[1],u[1]*v[0],u[1]*v[1]),dims=(2,2))"
   ]
  },
  {
   "cell_type": "code",
   "execution_count": 9,
   "id": "36369354-0314-4e56-8fd2-0be4ff6b3549",
   "metadata": {},
   "outputs": [],
   "source": [
    "BDF_order = 1\n",
    "if BDF_order == 1:\n",
    "    ext_BDF = [1]\n",
    "    CBDF    = [1, 1] # additional - except the first item\n",
    "elif BDF_order == 2:\n",
    "    ext_BDF = [2, -1]\n",
    "    CBDF    = [3/2, 2, -1/2] # additional - except the first item\n",
    "elif BDF_order == 3:\n",
    "    ext_BDF = [3,-3,1]\n",
    "    CBDF    = [11/6, 3, -3/2, 1/3] # additional - except the first item\n",
    "\n",
    "def GetExt(lst,BDF_order):\n",
    "    res = ext_BDF[0]*lst[0]\n",
    "    for ii in range(BDF_order):\n",
    "        if ii >= 1:\n",
    "            res = res + ext_BDF[ii]*lst[ii]\n",
    "    return res"
   ]
  },
  {
   "cell_type": "markdown",
   "id": "d8469a12-1db9-431a-a93f-8886509fac0c",
   "metadata": {},
   "source": [
    "### 设定速度场，初始几何的解析表达式"
   ]
  },
  {
   "cell_type": "code",
   "execution_count": 10,
   "id": "8155410c-ebdb-42e0-828c-b7b67fe012a4",
   "metadata": {},
   "outputs": [],
   "source": [
    "Info_VF = TwoTimeVF(1.2,1)\n",
    "x0,y0,r0 = 1/4,1/4,1/2\n",
    "Info_GEO = MoveCircleGeo(x0,y0,r0)\n",
    "u = Info_VF.u\n",
    "mat_D2u = Info_VF.mat_D2u\n",
    "mat_Du = Info_VF.mat_Du\n",
    "nCF_lift = Info_GEO.nCF_lift\n",
    "DnCF_lift = Info_GEO.DnCF_lift"
   ]
  },
  {
   "cell_type": "markdown",
   "id": "2cc3aec3-6911-4d2b-8d24-3f0e2fe42908",
   "metadata": {},
   "source": [
    "## 设定参数部分"
   ]
  },
  {
   "cell_type": "code",
   "execution_count": 11,
   "id": "5c9dc48c-5c02-49a7-9e8a-c5a613611b28",
   "metadata": {},
   "outputs": [
    {
     "name": "stdout",
     "output_type": "stream",
     "text": [
      "spatial order is 2\n"
     ]
    }
   ],
   "source": [
    "dim = 2\n",
    "tau0 = 2**(-7)\n",
    "order = 2\n",
    "print('spatial order is {}'.format(order))\n",
    "BDF_order = 1"
   ]
  },
  {
   "cell_type": "code",
   "execution_count": 12,
   "id": "1462a1cd-e6fb-4e9c-8b04-829ccf1ca548",
   "metadata": {},
   "outputs": [],
   "source": [
    "tauval = tau0/2\n",
    "T = 4\n",
    "maxh = 0.05\n",
    "tau = Parameter(tauval)"
   ]
  },
  {
   "cell_type": "markdown",
   "id": "d5735ca0-0fe0-4763-bea4-36677e61ef80",
   "metadata": {},
   "source": [
    "### 初始网格\n",
    "* 涉及到domain的有限元空间和boundary的有限元空间"
   ]
  },
  {
   "cell_type": "code",
   "execution_count": 13,
   "id": "c1d8dadd-dc63-4f3d-b872-25df093f0d1c",
   "metadata": {},
   "outputs": [],
   "source": [
    "geo = SplineGeometry()\n",
    "geo.AddCircle((x0,y0),r0,bc=\"circle\")\n",
    "mymesh = Mesh(geo.GenerateMesh(maxh=maxh))\n",
    "mymesh.Curve(order)\n",
    "fes = H1(mymesh,order=order)\n",
    "fesV = VectorH1(mymesh,order=order)\n",
    "ini_disp = GridFunction(fesV)\n",
    "bnd_fes = Compress(H1(mymesh,definedon=mymesh.Boundaries(\".*\"),order=order))\n",
    "bnd_fesV = Compress(VectorH1(mymesh,definedon=mymesh.Boundaries(\".*\"),order=order))"
   ]
  },
  {
   "cell_type": "code",
   "execution_count": 14,
   "id": "05aa1c78-0749-4a68-867e-d1e33f0e4dca",
   "metadata": {},
   "outputs": [],
   "source": [
    "# Working fem space for symmetric Weingarten map A\n",
    "MatrixL2 = FESpace( [bnd_fes,bnd_fes,bnd_fes] )\n",
    "#         n  weingarten\n",
    "fes_pq = bnd_fesV*MatrixL2\n",
    "p, qxx, qxy, qyy = fes_pq.TrialFunction()\n",
    "pt, qtxx, qtxy, qtyy = fes_pq.TestFunction()\n",
    "q = CoefficientFunction( (qxx, qxy,\n",
    "                        qxy, qyy), dims=(2,2))\n",
    "qt = CoefficientFunction( (qtxx, qtxy,\n",
    "                        qtxy, qtyy), dims=(2,2))\n",
    "fes_saddle = bnd_fes*bnd_fesV\n",
    "chi, v_trial = fes_saddle.TrialFunction()\n",
    "chit, v_test = fes_saddle.TestFunction()\n",
    "n_trail, n_test = bnd_fesV.TnT()"
   ]
  },
  {
   "cell_type": "markdown",
   "id": "ba789707-5d16-4c46-80fb-5e63bfad77e3",
   "metadata": {},
   "source": [
    "### Exact\\_sgn\n",
    "\n",
    "* sgnCF 是Weingarten映射的表达式 是 切空间投影x梯度n"
   ]
  },
  {
   "cell_type": "code",
   "execution_count": 15,
   "id": "ff566bb3-b669-4369-8a09-5cc5e6c20748",
   "metadata": {},
   "outputs": [],
   "source": [
    "Initial_N = GridFunction(bnd_fesV)\n",
    "Initial_N.Set(nCF_lift, definedon=mymesh.Boundaries('.*'))\n",
    "Exact_n_np = Pos_Transformer(Initial_N)\n",
    "PCF = Info_GEO.PCF \n",
    "sgnCF = PCF*DnCF_lift\n",
    "# sgn is mean curvature (1/r) times ...\n",
    "Exact_sgn00_2 = GridFunction(bnd_fes)\n",
    "Exact_sgn01_2 = GridFunction(bnd_fes)\n",
    "Exact_sgn11_2 = GridFunction(bnd_fes)\n",
    "Exact_sgn00_2.Set(sgnCF[0,0],definedon=mymesh.Boundaries('.*'))\n",
    "Exact_sgn01_2.Set(sgnCF[0,1],definedon=mymesh.Boundaries('.*'))\n",
    "Exact_sgn11_2.Set(sgnCF[1,1],definedon=mymesh.Boundaries('.*'))"
   ]
  },
  {
   "cell_type": "markdown",
   "id": "749cd83a-244a-4df3-afb1-33ea32f8d904",
   "metadata": {},
   "source": [
    "### BDF离散的方程变量\n",
    "* gfu 对应于空间 fes_pq中的有限元函数，是p，q_ij的联合，生成了后面所有的分量有限元函数\n",
    "* p: 法向量，q: Weingarten matrix只是把这些分量有限元函数再组装成向量和矩阵便于后文的矩阵计算\n",
    "* v\\_chi 对应于空间 fes_saddle，是v和乘子的联合\n",
    "* 由于p,q是演化方程，需要设定初值"
   ]
  },
  {
   "cell_type": "code",
   "execution_count": 16,
   "id": "41226526-53c7-4d9d-ad26-e58b189a2d8d",
   "metadata": {},
   "outputs": [],
   "source": [
    "# %%BDF histroy data\n",
    "BDF_hist_vars = ['p','q','v','gfu','v_chi','q_xx','q_xy','q_yy']\n",
    "for var in BDF_hist_vars:\n",
    "    locals()[var+'_hist'] = []\n",
    "\n",
    "for ii in range(BDF_order):\n",
    "    # For BDF scheme, save order-1 historic terms, the first is the nearest one \n",
    "    jj = BDF_order-1-ii\n",
    "    locals()['gfu_BDF_'+str(ii)] = GridFunction(fes_pq)\n",
    "    locals()['v_chi_BDF_'+str(ii)] = GridFunction(fes_saddle)\n",
    "    locals()['chi_BDF_'+str(ii)], locals()['v_BDF_'+str(ii)] = locals()['v_chi_BDF_'+str(ii)].components\n",
    "    locals()['p_BDF_'+str(ii)], locals()['q_xx_BDF_'+str(ii)], locals()['q_xy_BDF_'+str(ii)], locals()['q_yy_BDF_'+str(ii)] = locals()['gfu_BDF_'+str(ii)].components\n",
    "    locals()['q_BDF_'+str(ii)] = CF((locals()['q_xx_BDF_'+str(ii)], locals()['q_xy_BDF_'+str(ii)], \n",
    "                                locals()['q_xy_BDF_'+str(ii)], locals()['q_yy_BDF_'+str(ii)]),dims=(2,2))\n",
    "\n",
    "    # Initialize \n",
    "    texact = jj*tauval\n",
    "    locals()['p_BDF_'+str(ii)].vec.data = BaseVector(Exact_n_np.flatten('F'))  \n",
    "    locals()['q_xx_BDF_'+str(ii)].vec.data = BaseVector(Exact_sgn00_2.vec.FV().NumPy())\n",
    "    locals()['q_xy_BDF_'+str(ii)].vec.data = BaseVector(Exact_sgn01_2.vec.FV().NumPy())\n",
    "    locals()['q_yy_BDF_'+str(ii)].vec.data = BaseVector(Exact_sgn11_2.vec.FV().NumPy())\n",
    "\n",
    "    for var in BDF_hist_vars:\n",
    "        locals()[var+'_hist'].append(locals()[var+'_BDF_'+str(ii)])  \n",
    "\n",
    "n_proj = GridFunction(bnd_fesV)\n",
    "p_ext_1 = GetExt([xx[0] for xx in p_hist],BDF_order=BDF_order)\n",
    "p_ext_2 = GetExt([xx[1] for xx in p_hist],BDF_order=BDF_order)\n",
    "v_ext_1 = GetExt([xx[0] for xx in v_hist],BDF_order=BDF_order)\n",
    "v_ext_2 = GetExt([xx[1] for xx in v_hist],BDF_order=BDF_order)\n",
    "p_ext   = GetExt(p_hist,BDF_order=BDF_order)\n",
    "q_ext   = GetExt(q_hist,BDF_order=BDF_order)\n",
    "v_ext   = GetExt(v_hist,BDF_order=BDF_order)"
   ]
  },
  {
   "cell_type": "code",
   "execution_count": 17,
   "id": "73df4266-739a-46f8-8221-99e89a69e817",
   "metadata": {},
   "outputs": [],
   "source": [
    "# %%Bilinear forms and Linear forms Settings -- BDF extensions and \n",
    "Lhs_pq = BilinearForm(fes_pq)\n",
    "Rhs_pq = LinearForm(fes_pq)\n",
    "\n",
    "mat_pv = TensorProduct([p_ext_1,p_ext_2],[v_ext_1-u[0],v_ext_2-u[1]])\n",
    "mat_Projp = TensorProduct([p_ext_1,p_ext_2],[p_ext_1,p_ext_2])\n",
    "Id = CF((1,0,0,1),dims=(2,2))\n",
    "mat_Ptn = Id - mat_Projp\n",
    "mat_DuCF = CF((mat_Du[0][0],mat_Du[0][1],mat_Du[1][0],mat_Du[1][1]),dims=(2,2))\n",
    "Du = mat_DuCF*mat_Ptn\n",
    "\n",
    "# of unknowns\n",
    "gradq_t_ele = [di for di in grad(qxx).Trace()]+[di for di in grad(qxy).Trace()]*2\\\n",
    "                +[di for di in grad(qyy).Trace()]\n",
    "gradq_tensor = CF(tuple(gradq_t_ele),dims=(2,2,2))\n",
    "\n",
    "## BDF2 修改物质导数\n",
    "Lhs_pq += CBDF[0]/tau*InnerProduct(p,pt)*ds \\\n",
    "            - InnerProduct(grad(p).Trace()*(v_ext-u),pt)*ds\n",
    "for jj in range(BDF_order):\n",
    "    Rhs_pq += CBDF[jj+1]/tau*InnerProduct(p_hist[jj],pt)*ds\n",
    "Rhs_pq += - InnerProduct(Du.trans*p_ext,pt)*ds\n",
    "\n",
    "Lhs_pq += CBDF[0]/tau*InnerProduct(q,qt)*ds \\\n",
    "            - InnerProduct(gradq_tensor*(v_ext-u),qt)*ds\n",
    "for jj in range(BDF_order):\n",
    "    if jj == 0:\n",
    "        gradvext = ext_BDF[jj]*grad(v_hist[jj]).Trace()\n",
    "    else:\n",
    "        gradvext = gradvext + ext_BDF[jj]*grad(v_hist[jj]).Trace()\n",
    "\n",
    "for jj in range(BDF_order):\n",
    "    Rhs_pq += CBDF[jj+1]/tau*InnerProduct(q_hist[jj],qt)*ds\n",
    "\n",
    "Rhs_pq += InnerProduct(mat_pv*q_ext**2,qt)*ds\\\n",
    "            - InnerProduct(q_ext*Du,qt)*ds\\\n",
    "            - InnerProduct(Du.trans*q_ext,qt)*ds\\\n",
    "            + InnerProduct(q_ext*mat_DuCF.trans*mat_Projp,qt)*ds\\\n",
    "            + InnerProduct(mat_DuCF*p_ext,p_ext)*InnerProduct(q_ext,qt)*ds\\\n",
    "            + InnerProduct(mat_Projp*gradvext*q_ext,qt)*ds \n",
    "\n",
    "Hessu = [mat_Ptn*mat_D2u[ii]*mat_Ptn for ii in range(dim)]\n",
    "Rhs_pq += -(InnerProduct(Hessu[0],qt)*p_ext_1+InnerProduct(Hessu[1],qt)*p_ext_2)*ds\n",
    "\n",
    "Lhs_n = BilinearForm(bnd_fesV)\n",
    "Rhs_n = LinearForm(bnd_fesV)\n",
    "Lhs_n += InnerProduct(n_trail,n_test)*ds\\\n",
    "    + InnerProduct(grad(n_trail).Trace(),grad(n_test).Trace())*ds\n",
    "Rhs_n += InnerProduct(p_ext,n_test)*ds + InnerProduct(q_ext,grad(n_test).Trace())*ds\n",
    "\n",
    "Lhs_v = BilinearForm(fes_saddle)\n",
    "Rhs_v = LinearForm(fes_saddle)\n",
    "Lhs_v += InnerProduct(grad(v_trial).Trace(),grad(v_test).Trace())*ds\\\n",
    "        + chi*InnerProduct(n_proj,v_test)*ds\\\n",
    "        + chit*InnerProduct(n_proj,v_trial)*ds\n",
    "Rhs_v += chit*InnerProduct(n_proj,u)*ds\n",
    "\n",
    "# %%Iteration, note starting time for BDF2\n",
    "told = (BDF_order-1)*tauval\n",
    "t_err_save = np.array([T])\n",
    "err_set = []\n",
    "\n",
    "Disp = GridFunction(fesV)\n",
    "fesD = VectorH1(mymesh,order=order,dirichlet=\".*\")\n",
    "Lhs_H = BilinearForm(fesD)\n",
    "VExtend = GridFunction(fesD)\n",
    "VInterface = GridFunction(fesD)\n",
    "Rhs_H = LinearForm(fesD)\n",
    "v_d_trial, v_d_test = fesD.TnT()\n",
    "Lhs_H += -InnerProduct(grad(v_d_trial),grad(v_d_test))*dx\n",
    "Rhs_H += InnerProduct(grad(VInterface),grad(v_d_test))*dx"
   ]
  },
  {
   "cell_type": "markdown",
   "id": "390bf73d-7d93-4478-a370-78b3a841164e",
   "metadata": {},
   "source": [
    "### 可视化/netgen.gui\n",
    "* 下面两行以及while循环中的Redraw()是保证netgen中的曲面能够移动起来的关键\n",
    "* 就这三行"
   ]
  },
  {
   "cell_type": "code",
   "execution_count": 18,
   "id": "799f573a-1c3a-4b8d-8cee-df7a3f2f3f51",
   "metadata": {},
   "outputs": [
    {
     "name": "stdout",
     "output_type": "stream",
     "text": [
      "optfile ./ng.opt does not exist - using default values\n",
      "togl-version : 2\n",
      "OCC module loaded\n",
      "loading ngsolve library\n",
      "NGSolve-6.2.2105\n",
      "Using Lapack\n",
      "Including sparse direct solver Pardiso\n",
      "Running parallel using 8 thread(s)\n"
     ]
    }
   ],
   "source": [
    "import netgen.gui"
   ]
  },
  {
   "cell_type": "code",
   "execution_count": 19,
   "id": "c4279f65-c85d-4160-a6d6-23c38d06b8b6",
   "metadata": {},
   "outputs": [],
   "source": [
    "SetVisualization(deformation=True)"
   ]
  },
  {
   "cell_type": "code",
   "execution_count": 20,
   "id": "61e6cb3a-d7cd-4960-b30f-04daaa7a3276",
   "metadata": {},
   "outputs": [],
   "source": [
    "Draw(Disp,mymesh,'disp',deformation=True)"
   ]
  },
  {
   "cell_type": "code",
   "execution_count": 21,
   "id": "8834b0fc-847b-4f55-bd6f-e1aaf7d9316d",
   "metadata": {},
   "outputs": [],
   "source": [
    "while told<=200*tau0:\n",
    "    tauval = tau.Get()\n",
    "\n",
    "    Lhs_n.Assemble()\n",
    "    Rhs_n.Assemble()\n",
    "    n_proj.vec.data = BaseVector(MyInv(Lhs_n.mat, Rhs_n.vec))\n",
    "\n",
    "    Rhs_v.Assemble()\n",
    "    Lhs_v.Assemble()\n",
    "    for ii in range(BDF_order):\n",
    "        jj = BDF_order - 1 - ii\n",
    "        if jj > 0:\n",
    "            v_chi_hist[jj].vec.data = BaseVector(v_chi_hist[jj-1].vec.FV().NumPy())\n",
    "        elif jj == 0:\n",
    "            v_chi_hist[jj].vec.data = BaseVector(MyInv(Lhs_v.mat,Rhs_v.vec))\n",
    "    # 更新 v_o_sol\n",
    "\n",
    "    # 已知 v_o_sol,p_o_sol,q_o_mat,更新 p,q\n",
    "    Lhs_pq.Assemble()\n",
    "    Rhs_pq.Assemble()\n",
    "    for ii in range(BDF_order):\n",
    "        jj = BDF_order - 1 - ii\n",
    "        if jj > 0:\n",
    "            gfu_hist[jj].vec.data = BaseVector(gfu_hist[jj-1].vec.FV().NumPy())\n",
    "        elif jj == 0:\n",
    "            gfu_hist[jj].vec.data = BaseVector(MyInv(Lhs_pq.mat,Rhs_pq.vec))\n",
    "\n",
    "    VInterface.Interpolate(v_hist[0],definedon=mymesh.Boundaries(\".*\"))\n",
    "    Lhs_H.Assemble()\n",
    "    Rhs_H.Assemble()\n",
    "    # VExtend.vec.data = VInterface.vec.data + Lhs_H.mat.Inverse(freedofs=fesD.FreeDofs(),inverse='pardiso')*Rhs_H.vec\n",
    "    VExtend.vec.data = VInterface.vec.data + BaseVector(MyInv(Lhs_H.mat,Rhs_H.vec,np.array(fesD.FreeDofs())))\n",
    "    Disp.vec.data += BaseVector(tauval*VExtend.vec.FV().NumPy())\n",
    "    mymesh.SetDeformation(Disp)\n",
    "    Redraw()\n",
    "    time.sleep(0.01)\n",
    "    told += tauval"
   ]
  },
  {
   "cell_type": "code",
   "execution_count": null,
   "id": "bc508872-c448-43ad-b2eb-7e932ead1552",
   "metadata": {},
   "outputs": [],
   "source": []
  }
 ],
 "metadata": {
  "kernelspec": {
   "display_name": "Python 3 (ipykernel)",
   "language": "python",
   "name": "python3"
  },
  "language_info": {
   "codemirror_mode": {
    "name": "ipython",
    "version": 3
   },
   "file_extension": ".py",
   "mimetype": "text/x-python",
   "name": "python",
   "nbconvert_exporter": "python",
   "pygments_lexer": "ipython3",
   "version": "3.8.10"
  }
 },
 "nbformat": 4,
 "nbformat_minor": 5
}
