{
 "cells": [
  {
   "cell_type": "code",
   "execution_count": 36,
   "id": "5ef28ccc-d454-4d79-a3ac-9a029d8d0b55",
   "metadata": {},
   "outputs": [],
   "source": [
    "from ngsolve import *\n",
    "import netgen.gui\n",
    "import time"
   ]
  },
  {
   "cell_type": "markdown",
   "id": "c7ac5c26-d8bf-4a18-b348-75ca001f46a6",
   "metadata": {},
   "source": [
    "## 2维曲面生成"
   ]
  },
  {
   "cell_type": "code",
   "execution_count": 38,
   "id": "bdfc50d0-ca9b-4dc3-9fa0-df7911b1a04b",
   "metadata": {},
   "outputs": [],
   "source": [
    "from netgen.csg import Pnt,SplineCurve2d,CSGeometry,Revolution,Sphere\n",
    "import numpy as np\n",
    "import netgen.meshing as ngm\n",
    "from netgen.csg import *\n",
    "from netgen.meshing import MeshingStep"
   ]
  },
  {
   "cell_type": "code",
   "execution_count": 75,
   "id": "9c790d7c-1aac-4e5d-b9d1-7af6f549e35b",
   "metadata": {},
   "outputs": [
    {
     "name": "stdout",
     "output_type": "stream",
     "text": [
      " Start Findpoints\n",
      " Analyze spec points\n",
      " Find edges\n",
      " Start Findpoints\n",
      " Analyze spec points\n",
      " Find edges\n",
      " Start Findpoints\n",
      " Analyze spec points\n",
      " Find edges\n",
      " Surface 1 / 1\n",
      " Optimize Surface\n"
     ]
    }
   ],
   "source": [
    "geo = CSGeometry()\n",
    "geo.Add(Sphere(Pnt(0,0,0),1))\n",
    "mesh = Mesh(geo.GenerateMesh(maxh=0.5, perfstepsend=MeshingStep.MESHSURFACE))\n",
    "Draw(mesh)"
   ]
  },
  {
   "cell_type": "markdown",
   "id": "716fdab1-50bc-4026-84ec-7fbb4939929a",
   "metadata": {},
   "source": [
    "## 有限元空间\n",
    "* 标量空间 for multiplier\n",
    "* 向量空间 for position and velocity"
   ]
  },
  {
   "cell_type": "code",
   "execution_count": 76,
   "id": "34df1720-b9d3-43b8-9d78-5a137d3a8e39",
   "metadata": {},
   "outputs": [],
   "source": [
    "fes = H1(mesh,order=1)\n",
    "fesV = VectorH1(mesh,order=1)\n",
    "fesMix = fes*fesV"
   ]
  },
  {
   "cell_type": "markdown",
   "id": "d639ffdc-f010-49cb-9842-daabb30d1356",
   "metadata": {},
   "source": [
    "## 有限元函数\n",
    "* 位置 X\n",
    "* 位移 Disp"
   ]
  },
  {
   "cell_type": "code",
   "execution_count": 77,
   "id": "3ed2e5f0-f0e6-4abe-ad19-013f8df8e00f",
   "metadata": {},
   "outputs": [],
   "source": [
    "Disp = GridFunction(fesV)\n",
    "X_old = GridFunction(fesV)\n",
    "Solution = GridFunction(fesMix)"
   ]
  },
  {
   "cell_type": "markdown",
   "id": "75da712d-18d4-4a40-8a81-55afa2c3dad9",
   "metadata": {},
   "source": [
    "## 设定位置X的初值"
   ]
  },
  {
   "cell_type": "code",
   "execution_count": 78,
   "id": "e2c7ddb2-4b08-4112-acc6-d9d427e22013",
   "metadata": {},
   "outputs": [],
   "source": [
    "Vertices_Coords = np.array([v.point for v in mesh.vertices])\n",
    "X_old.vec.data = BaseVector(Vertices_Coords.flatten('F'))"
   ]
  },
  {
   "cell_type": "markdown",
   "id": "aacec92a-0c7d-4890-a6b6-4d0ebbe08765",
   "metadata": {},
   "source": [
    "## Mass lumping on surface"
   ]
  },
  {
   "cell_type": "code",
   "execution_count": 79,
   "id": "99180915-df1f-44f3-8296-f87cb552a8b0",
   "metadata": {},
   "outputs": [],
   "source": [
    "ir = IntegrationRule(points = [(0,0), (1,0), (0,1)], weights = [1/6, 1/6, 1/6])\n",
    "ds_lumping = ds(intrules = { TRIG : ir })"
   ]
  },
  {
   "cell_type": "markdown",
   "id": "b21684cf-842a-4058-8df4-b62a2f711edf",
   "metadata": {},
   "source": [
    "## Time stepping parameter"
   ]
  },
  {
   "cell_type": "code",
   "execution_count": 80,
   "id": "41b3bcf1-af24-4520-ab95-ab9fc3cfcc89",
   "metadata": {},
   "outputs": [],
   "source": [
    "tauval = 0.02\n",
    "t_old = 0"
   ]
  },
  {
   "cell_type": "markdown",
   "id": "1c1ca2b2-347b-4b98-ae27-b5894ec6ea0e",
   "metadata": {},
   "source": [
    "## 显示网格移动的设定"
   ]
  },
  {
   "cell_type": "code",
   "execution_count": 71,
   "id": "1a280dc2-42f7-4f90-aa8e-470f2457e1dd",
   "metadata": {},
   "outputs": [],
   "source": [
    "SetVisualization(deformation=True)"
   ]
  },
  {
   "cell_type": "code",
   "execution_count": 72,
   "id": "f065b359-f796-4124-a938-44e3239cb1ed",
   "metadata": {},
   "outputs": [],
   "source": [
    "Draw(Disp,mesh,'disp',deformation=True)"
   ]
  },
  {
   "cell_type": "markdown",
   "id": "ef86e8b2-66ed-4fd9-8875-4fc9b967ba45",
   "metadata": {},
   "source": [
    "## BGN弱形式\n",
    "* BGN本身求解的是新时刻的X；这里求解的是D = X^n+1 - X^n"
   ]
  },
  {
   "cell_type": "code",
   "execution_count": 81,
   "id": "23dc08f6-4c14-45ca-82c1-a0f12ff70e98",
   "metadata": {},
   "outputs": [],
   "source": [
    "kappa, D = fesMix.TrialFunction()\n",
    "chi, eta = fesMix.TestFunction()\n",
    "\n",
    "lhs = BilinearForm(fesMix)\n",
    "lhs += InnerProduct(D,specialcf.normal(3))*chi*ds_lumping + tauval*kappa*chi*ds_lumping\n",
    "lhs += -InnerProduct(eta,specialcf.normal(3))*kappa*ds_lumping + InnerProduct(grad(D).Trace(),grad(eta).Trace())*ds\n",
    "\n",
    "rhs = LinearForm(fesMix)\n",
    "rhs += -InnerProduct(grad(X_old).Trace(),grad(eta).Trace())*ds"
   ]
  },
  {
   "cell_type": "markdown",
   "id": "6601cd44-5fd2-4e45-900b-9e7940f37050",
   "metadata": {},
   "source": [
    "## 时间演化"
   ]
  },
  {
   "cell_type": "code",
   "execution_count": 82,
   "id": "4a451524-e8b8-41c8-99a1-185c17d8bee5",
   "metadata": {},
   "outputs": [],
   "source": [
    "t_old = 0\n",
    "while t_old<10:\n",
    "    mesh.SetDeformation(Disp)\n",
    "    lhs.Assemble()\n",
    "    rhs.Assemble()\n",
    "    Solution.vec.data = lhs.mat.Inverse(inverse=\"pardiso\")*rhs.vec\n",
    "    \n",
    "    Disp.vec.data = BaseVector(Disp.vec.FV().NumPy() + tauval*Solution.components[1].vec.FV().NumPy())\n",
    "    X_old.vec.data = BaseVector(X_old.vec.FV().NumPy() + tauval*Solution.components[1].vec.FV().NumPy())\n",
    "    Redraw()\n",
    "    time.sleep(0.01)\n",
    "    t_old += tauval"
   ]
  },
  {
   "cell_type": "code",
   "execution_count": null,
   "id": "25459129-fce4-4b06-9222-89bfa511189f",
   "metadata": {},
   "outputs": [],
   "source": []
  }
 ],
 "metadata": {
  "kernelspec": {
   "display_name": "Python 3 (ipykernel)",
   "language": "python",
   "name": "python3"
  },
  "language_info": {
   "codemirror_mode": {
    "name": "ipython",
    "version": 3
   },
   "file_extension": ".py",
   "mimetype": "text/x-python",
   "name": "python",
   "nbconvert_exporter": "python",
   "pygments_lexer": "ipython3",
   "version": "3.8.10"
  }
 },
 "nbformat": 4,
 "nbformat_minor": 5
}
